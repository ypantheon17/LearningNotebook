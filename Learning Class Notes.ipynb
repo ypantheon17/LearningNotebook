{
 "cells": [
  {
   "cell_type": "markdown",
   "metadata": {},
   "source": [
    "# Learning Class"
   ]
  },
  {
   "cell_type": "markdown",
   "metadata": {},
   "source": [
    "<b>Initiating a Class</b>"
   ]
  },
  {
   "cell_type": "code",
   "execution_count": 1,
   "metadata": {
    "collapsed": true
   },
   "outputs": [],
   "source": [
    "class Dog():\n",
    "    '''this is a simple class demo'''\n",
    "    \n",
    "    #class attributes\n",
    "    species = 'mammal'\n",
    "    \n",
    "    def __init__(self, name, age):\n",
    "        self.name = name\n",
    "        self.age = age"
   ]
  },
  {
   "cell_type": "code",
   "execution_count": 4,
   "metadata": {
    "collapsed": false
   },
   "outputs": [
    {
     "name": "stdout",
     "output_type": "stream",
     "text": [
      "Eddie is 6\n",
      "mammal is a class attribute\n"
     ]
    }
   ],
   "source": [
    "my_dog = Dog('Eddie',6) #instance\n",
    "print('{} is {}'.format(my_dog.name, my_dog.age))\n",
    "print('{} is a class attribute'.format(my_dog.species))"
   ]
  },
  {
   "cell_type": "code",
   "execution_count": 6,
   "metadata": {
    "collapsed": false
   },
   "outputs": [
    {
     "data": {
      "text/plain": [
       "'this is a simple class demo'"
      ]
     },
     "execution_count": 6,
     "metadata": {},
     "output_type": "execute_result"
    }
   ],
   "source": [
    "# calling doc string\n",
    "my_dog.__doc__"
   ]
  },
  {
   "cell_type": "markdown",
   "metadata": {},
   "source": [
    "<b>Inheritance - <i>super().__init__(self)</i></b>"
   ]
  },
  {
   "cell_type": "code",
   "execution_count": 7,
   "metadata": {
    "collapsed": true
   },
   "outputs": [],
   "source": [
    "class Car():\n",
    "    \n",
    "    def __init__(self, make, model, year):\n",
    "        self.make = make\n",
    "        self.model = model\n",
    "        self.year = year\n",
    "        \n",
    "    def get_name(self):\n",
    "        name = str(self.year + ' ' + self.make + ' ' + self.model)\n",
    "        return name.title()\n",
    "    "
   ]
  },
  {
   "cell_type": "code",
   "execution_count": 9,
   "metadata": {
    "collapsed": false
   },
   "outputs": [
    {
     "data": {
      "text/plain": [
       "'2016 Bmw 340I'"
      ]
     },
     "execution_count": 9,
     "metadata": {},
     "output_type": "execute_result"
    }
   ],
   "source": [
    "my_car = Car('BMW','340i','2016')\n",
    "my_car.get_name()"
   ]
  },
  {
   "cell_type": "code",
   "execution_count": 10,
   "metadata": {
    "collapsed": false
   },
   "outputs": [
    {
     "data": {
      "text/plain": [
       "'2018 Tesla Model S'"
      ]
     },
     "execution_count": 10,
     "metadata": {},
     "output_type": "execute_result"
    }
   ],
   "source": [
    "class ElectricCar(Car):\n",
    "    \n",
    "    def __init__(self, make, model, year):\n",
    "        # inheritate using parent class constructor\n",
    "        super().__init__(make, model, year)\n",
    "\n",
    "my_tesla = ElectricCar('Tesla','model s','2018')\n",
    "my_tesla.get_name()"
   ]
  },
  {
   "cell_type": "markdown",
   "metadata": {},
   "source": [
    "<b>Inheritance - Overwrite and Expansion</b>"
   ]
  },
  {
   "cell_type": "code",
   "execution_count": 13,
   "metadata": {
    "collapsed": false,
    "scrolled": true
   },
   "outputs": [
    {
     "name": "stdout",
     "output_type": "stream",
     "text": [
      "Tesla\n"
     ]
    },
    {
     "data": {
      "text/plain": [
       "100"
      ]
     },
     "execution_count": 13,
     "metadata": {},
     "output_type": "execute_result"
    }
   ],
   "source": [
    "class ElectricCar(Car):\n",
    "    \n",
    "    def __init__(self, make, model, year, BatteryCapacity):\n",
    "        # inheritate using parent class constructor\n",
    "        super().__init__(make, model, year)\n",
    "        self.BatteryCapacity = BatteryCapacity\n",
    "        \n",
    "    def get_name(self):\n",
    "        print(self.make.title())\n",
    "    \n",
    "my_tesla = ElectricCar('Tesla','model s','2018',100)\n",
    "my_tesla.get_name()\n",
    "my_tesla.BatteryCapacity\n"
   ]
  },
  {
   "cell_type": "markdown",
   "metadata": {},
   "source": [
    "<b>Instance as Attributes</b>"
   ]
  },
  {
   "cell_type": "code",
   "execution_count": 14,
   "metadata": {
    "collapsed": false
   },
   "outputs": [
    {
     "data": {
      "text/plain": [
       "'2018 Tesla Model S'"
      ]
     },
     "execution_count": 14,
     "metadata": {},
     "output_type": "execute_result"
    }
   ],
   "source": [
    "class ElectricCar(Car):\n",
    "    \n",
    "    def __init__(self, make, model, year, BatteryCapacity):\n",
    "        # inheritate using parent class constructor\n",
    "        super().__init__(make, model, year)\n",
    "        # instance as attribute\n",
    "        self.battery = Battery(BatteryCapacity)\n",
    "        \n",
    "class Battery():\n",
    "    def __init__(self, BatteryCapacity):\n",
    "        self.BatteryCapacity = BatteryCapacity\n",
    "    \n",
    "    def get_batterycapacity(self):\n",
    "        print('Battery capacity is {}'.format(self.BatteryCapacity))\n",
    "        \n",
    "my_tesla = ElectricCar('Tesla','model s','2018',100)\n",
    "my_tesla.get_name()\n",
    "        "
   ]
  },
  {
   "cell_type": "code",
   "execution_count": 15,
   "metadata": {
    "collapsed": false
   },
   "outputs": [
    {
     "data": {
      "text/plain": [
       "<__main__.Battery at 0x10f0b0780>"
      ]
     },
     "execution_count": 15,
     "metadata": {},
     "output_type": "execute_result"
    }
   ],
   "source": [
    "my_tesla.battery"
   ]
  },
  {
   "cell_type": "code",
   "execution_count": 16,
   "metadata": {
    "collapsed": false
   },
   "outputs": [
    {
     "data": {
      "text/plain": [
       "100"
      ]
     },
     "execution_count": 16,
     "metadata": {},
     "output_type": "execute_result"
    }
   ],
   "source": [
    "my_tesla.battery.BatteryCapacity"
   ]
  },
  {
   "cell_type": "code",
   "execution_count": 17,
   "metadata": {
    "collapsed": false
   },
   "outputs": [
    {
     "name": "stdout",
     "output_type": "stream",
     "text": [
      "Battery capacity is 100\n"
     ]
    }
   ],
   "source": [
    "my_tesla.battery.get_batterycapacity()"
   ]
  },
  {
   "cell_type": "markdown",
   "metadata": {},
   "source": [
    "# Importing Classes"
   ]
  },
  {
   "cell_type": "markdown",
   "metadata": {},
   "source": [
    "<b>Compare</b>"
   ]
  },
  {
   "cell_type": "markdown",
   "metadata": {},
   "source": [
    "```python\n",
    "from car import Car\n",
    "my_car = Car('bmw','340i','2015')\n",
    "\n",
    "from car import Car, ElectricCar\n",
    "my_car = Car('bmw','340i','2015')\n",
    "my_tesla = ElectricCar('Tesla','model s','2018',100)\n",
    "```\n"
   ]
  },
  {
   "cell_type": "markdown",
   "metadata": {},
   "source": [
    "<b>With</b>"
   ]
  },
  {
   "cell_type": "markdown",
   "metadata": {},
   "source": [
    "```python\n",
    "import car as car\n",
    "\n",
    "my_car = car.Car('bmw','340i','2015')\n",
    "my_tesla = car.ElectricCar('Tesla','model s','2018',100)\n",
    "```\n"
   ]
  },
  {
   "cell_type": "markdown",
   "metadata": {},
   "source": [
    "<b>And (not recommended due to potential nameplace confusion)</b>"
   ]
  },
  {
   "cell_type": "markdown",
   "metadata": {},
   "source": [
    "```python\n",
    "from car import *\n",
    "\n",
    "my_car = Car('bmw','340i','2015')\n",
    "my_tesla = ElectricCar('Tesla','model s','2018',100)\n",
    "```"
   ]
  },
  {
   "cell_type": "markdown",
   "metadata": {},
   "source": [
    "# Best Pratice"
   ]
  },
  {
   "cell_type": "markdown",
   "metadata": {},
   "source": [
    "<b> Try doing everything in one file and moving your classes to separate modules once everything is working </b>"
   ]
  }
 ],
 "metadata": {
  "kernelspec": {
   "display_name": "Python 3",
   "language": "python",
   "name": "python3"
  },
  "language_info": {
   "codemirror_mode": {
    "name": "ipython",
    "version": 3
   },
   "file_extension": ".py",
   "mimetype": "text/x-python",
   "name": "python",
   "nbconvert_exporter": "python",
   "pygments_lexer": "ipython3",
   "version": "3.6.0"
  }
 },
 "nbformat": 4,
 "nbformat_minor": 2
}
