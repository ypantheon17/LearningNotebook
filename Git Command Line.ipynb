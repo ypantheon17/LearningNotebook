{
 "cells": [
  {
   "cell_type": "markdown",
   "metadata": {},
   "source": [
    "<b>Configuring Git</b>\n",
    "```git\n",
    "git config --global user.name \"username\"\n",
    "git config --global user.email \"username@example.com\"\n",
    "```"
   ]
  },
  {
   "cell_type": "markdown",
   "metadata": {},
   "source": [
    "<b>Initializing a Repository</b>\n",
    "```git\n",
    "git init\n",
    "```\n",
    "\n",
    "<b>Adding Files to the Repository</b>\n",
    "Use this when \n",
    "1. First time since the creation of \n",
    "2. New files created since the last commit\n",
    "```git\n",
    "git add . \n",
    "git add sample.py\n",
    "```\n",
    "\n",
    "<b>Checking Status</b>\n",
    "```git\n",
    "git status\n",
    "```\n",
    "\n",
    "<b>Making a Commit</b>\n",
    "Commit all the files under the foler with a message \"Started project\"\n",
    "```git\n",
    "git commit -m \"Started project\"\n",
    "```\n",
    "\n",
    "<b>Checking Commit Log</b>\n",
    "```git\n",
    "git log\n",
    "```\n",
    "\n",
    "<b>Add all modified files in the repository to the current commit\n"
   ]
  },
  {
   "cell_type": "markdown",
   "metadata": {},
   "source": [
    "<b>Ignore Files</b>\n",
    "```git\n",
    ".gitignore #create a flat file\n",
    "\n",
    "__pycache__/ #sample folder\n",
    "```"
   ]
  }
 ],
 "metadata": {
  "kernelspec": {
   "display_name": "Python 3",
   "language": "python",
   "name": "python3"
  },
  "language_info": {
   "codemirror_mode": {
    "name": "ipython",
    "version": 3
   },
   "file_extension": ".py",
   "mimetype": "text/x-python",
   "name": "python",
   "nbconvert_exporter": "python",
   "pygments_lexer": "ipython3",
   "version": "3.6.0"
  }
 },
 "nbformat": 4,
 "nbformat_minor": 2
}
